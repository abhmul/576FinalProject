{
 "cells": [
  {
   "cell_type": "code",
   "execution_count": 22,
   "metadata": {},
   "outputs": [],
   "source": [
    "from gensim.models.keyedvectors import KeyedVectors\n",
    "\n",
    "vectors = KeyedVectors.load_word2vec_format('text8_cnn_vectors_char_emb.txt', binary=False)"
   ]
  },
  {
   "cell_type": "code",
   "execution_count": 24,
   "metadata": {},
   "outputs": [
    {
     "data": {
      "text/plain": [
       "[('nanyang', 0.9569650292396545),\n",
       " ('prabang', 0.9567877650260925),\n",
       " ('vinland', 0.9547608494758606),\n",
       " ('finland', 0.9547563791275024),\n",
       " ('inland', 0.954575777053833),\n",
       " ('rembrandt', 0.9539294242858887),\n",
       " ('slang', 0.9538965821266174),\n",
       " ('nland', 0.9537940621376038),\n",
       " ('nand', 0.9535936713218689),\n",
       " ('dining', 0.953318178653717)]"
      ]
     },
     "execution_count": 24,
     "metadata": {},
     "output_type": "execute_result"
    }
   ],
   "source": [
    "vectors.most_similar(positive=['king', 'woman'], negative=['man'])"
   ]
  }
 ],
 "metadata": {
  "kernelspec": {
   "display_name": "Python 3",
   "language": "python",
   "name": "python3"
  },
  "language_info": {
   "codemirror_mode": {
    "name": "ipython",
    "version": 3
   },
   "file_extension": ".py",
   "mimetype": "text/x-python",
   "name": "python",
   "nbconvert_exporter": "python",
   "pygments_lexer": "ipython3",
   "version": "3.5.2"
  }
 },
 "nbformat": 4,
 "nbformat_minor": 2
}
