{
 "cells": [
  {
   "cell_type": "code",
   "execution_count": 2,
   "metadata": {},
   "outputs": [],
   "source": [
    "from gensim.models.keyedvectors import KeyedVectors\n",
    "\n",
    "vectors = KeyedVectors.load_word2vec_format('vectors/text8_lstm_char_emb_gensim_decoders.txt', binary=False)"
   ]
  },
  {
   "cell_type": "code",
   "execution_count": 12,
   "metadata": {},
   "outputs": [
    {
     "data": {
      "text/plain": [
       "[('quintus', 0.9117714166641235),\n",
       " ('qanun', 0.9067908525466919),\n",
       " ('queens', 0.9066410064697266),\n",
       " ('quiet', 0.9056824445724487),\n",
       " ('quotes', 0.9014662504196167),\n",
       " ('questionable', 0.9011449217796326),\n",
       " ('quae', 0.9008223414421082),\n",
       " ('queensberry', 0.9001539945602417),\n",
       " ('quint', 0.8991085290908813),\n",
       " ('quinton', 0.8991085290908813)]"
      ]
     },
     "execution_count": 12,
     "metadata": {},
     "output_type": "execute_result"
    }
   ],
   "source": [
    "vectors.most_similar(positive=['queen'], negative=[])"
   ]
  }
 ],
 "metadata": {
  "kernelspec": {
   "display_name": "Python 3",
   "language": "python",
   "name": "python3"
  },
  "language_info": {
   "codemirror_mode": {
    "name": "ipython",
    "version": 3
   },
   "file_extension": ".py",
   "mimetype": "text/x-python",
   "name": "python",
   "nbconvert_exporter": "python",
   "pygments_lexer": "ipython3",
   "version": "3.5.2"
  }
 },
 "nbformat": 4,
 "nbformat_minor": 2
}
